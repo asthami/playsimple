{
 "cells": [
  {
   "cell_type": "code",
   "execution_count": 34,
   "id": "71fa11ef",
   "metadata": {},
   "outputs": [],
   "source": [
    "import random\n"
   ]
  },
  {
   "cell_type": "code",
   "execution_count": 35,
   "id": "b7b6691c",
   "metadata": {},
   "outputs": [],
   "source": [
    "class Player:\n",
    "    def __init__(self, name, elo_rating, internet_connection, sportsmanship, language_preference, avg_score, win_loss_ratio):\n",
    "        self.name = name\n",
    "        self.elo_rating = elo_rating\n",
    "        self.internet_connection = internet_connection\n",
    "        self.sportsmanship = sportsmanship\n",
    "        self.language_preference = language_preference\n",
    "        self.avg_score = avg_score\n",
    "        self.win_loss_ratio = win_loss_ratio\n"
   ]
  },
  {
   "cell_type": "code",
   "execution_count": 36,
   "id": "f063508e",
   "metadata": {},
   "outputs": [],
   "source": [
    "def generate_sample_players(num_players):\n",
    "    players = []\n",
    "    for i in range(num_players):\n",
    "        name = f\"Player{i+1}\"\n",
    "        elo_rating = random.randint(1000, 2000)\n",
    "        internet_connection = random.choice([\"good\", \"average\", \"poor\"])\n",
    "        sportsmanship = random.choice([\"good\", \"average\", \"bad\"])\n",
    "        language_preference = random.choice([\"English\", \"Spanish\", \"French\", \"German\"])\n",
    "        avg_score = random.randint(100, 300)\n",
    "        win_loss_ratio = random.uniform(0.1, 1.0)\n",
    "        players.append(Player(name, elo_rating, internet_connection, sportsmanship, language_preference, avg_score, win_loss_ratio))\n",
    "    return players\n",
    "\n",
    "# Generate sample player data\n",
    "num_players = 10\n",
    "players = generate_sample_players(num_players)\n"
   ]
  },
  {
   "cell_type": "code",
   "execution_count": 47,
   "id": "79b91e6c",
   "metadata": {},
   "outputs": [],
   "source": [
    "threshold = 3\n",
    "elo_rating_threshold = 100\n",
    "avg_score_threshold = 20\n",
    "win_loss_ratio_threshold = 0.2\n",
    "def pairwise_ranking(players):\n",
    "    matched_pairs = []\n",
    "    for i in range(len(players)):\n",
    "        for j in range(i+1, len(players)):\n",
    "            pi, pj = players[i], players[j]\n",
    "            relevance_score = calculate_relevance(pi, pj)\n",
    "            if relevance_score >= threshold and abs(pi.elo_rating - pj.elo_rating) <= elo_rating_threshold:\n",
    "                matched_pairs.append((pi, pj,relevance_score))\n",
    "    return matched_pairs\n",
    "\n",
    "\n"
   ]
  },
  {
   "cell_type": "code",
   "execution_count": 48,
   "id": "5aba8595",
   "metadata": {},
   "outputs": [],
   "source": [
    "\n",
    "def calculate_relevance(player1, player2):\n",
    "    relevance_score = 0\n",
    "    if abs(player1.elo_rating - player2.elo_rating) <= elo_rating_threshold:\n",
    "        relevance_score += 1\n",
    "    if player1.internet_connection == player2.internet_connection:\n",
    "        relevance_score += 1\n",
    "    if player1.sportsmanship != \"bad\" and player2.sportsmanship != \"bad\":\n",
    "        relevance_score += 1\n",
    "    if player1.language_preference == player2.language_preference:\n",
    "        relevance_score += 1\n",
    "    if abs(player1.avg_score - player2.avg_score) <= avg_score_threshold:\n",
    "        relevance_score += 1\n",
    "    if abs(player1.win_loss_ratio - player2.win_loss_ratio) <= win_loss_ratio_threshold:\n",
    "        relevance_score += 1\n",
    "    return relevance_score\n"
   ]
  },
  {
   "cell_type": "code",
   "execution_count": 51,
   "id": "822f73a1",
   "metadata": {},
   "outputs": [],
   "source": [
    "matched_pairs = pairwise_ranking(players)"
   ]
  },
  {
   "cell_type": "code",
   "execution_count": 52,
   "id": "c3bd76fc",
   "metadata": {},
   "outputs": [
    {
     "name": "stdout",
     "output_type": "stream",
     "text": [
      "Matched Pairs:\n",
      "Player1 (Elo: 1373, Avg Score: 172, Win/Loss Ratio: 0.21944184825010377) vs Player8 (Elo: 1402, Avg Score: 152, Win/Loss Ratio: 0.20805173259247042) | Relevance Score: 4\n",
      "Player4 (Elo: 1722, Avg Score: 106, Win/Loss Ratio: 0.47125645840532804) vs Player7 (Elo: 1800, Avg Score: 300, Win/Loss Ratio: 0.34313670582477396) | Relevance Score: 3\n"
     ]
    }
   ],
   "source": [
    "print(\"Matched Pairs:\")\n",
    "for pair in matched_pairs:\n",
    "    player1 = pair[0]\n",
    "    player2 = pair[1]\n",
    "    relevance_score = pair[2]\n",
    "    print(f\"{player1.name} (Elo: {player1.elo_rating}, Avg Score: {player1.avg_score}, Win/Loss Ratio: {player1.win_loss_ratio}) vs {player2.name} (Elo: {player2.elo_rating}, Avg Score: {player2.avg_score}, Win/Loss Ratio: {player2.win_loss_ratio}) | Relevance Score: {relevance_score}\")"
   ]
  },
  {
   "cell_type": "code",
   "execution_count": 45,
   "id": "a9e57ee8",
   "metadata": {},
   "outputs": [],
   "source": [
    "def evaluate_match_quality(matched_pairs):\n",
    "    for pair in matched_pairs:\n",
    "        if abs(pair[0].elo_rating - pair[1].elo_rating) > elo_rating_threshold:\n",
    "            print(f\"Warning: Match between {pair[0].name} and {pair[1].name} has a significant skill imbalance.\")\n"
   ]
  },
  {
   "cell_type": "code",
   "execution_count": 46,
   "id": "9e48e881",
   "metadata": {},
   "outputs": [],
   "source": [
    "evaluate_match_quality(matched_pairs)"
   ]
  },
  {
   "cell_type": "code",
   "execution_count": 33,
   "id": "47885260",
   "metadata": {},
   "outputs": [
    {
     "name": "stdout",
     "output_type": "stream",
     "text": [
      "Matched Pairs:\n"
     ]
    }
   ],
   "source": []
  },
  {
   "cell_type": "code",
   "execution_count": null,
   "id": "bc0a43a4",
   "metadata": {},
   "outputs": [],
   "source": []
  }
 ],
 "metadata": {
  "kernelspec": {
   "display_name": "Python 3 (ipykernel)",
   "language": "python",
   "name": "python3"
  },
  "language_info": {
   "codemirror_mode": {
    "name": "ipython",
    "version": 3
   },
   "file_extension": ".py",
   "mimetype": "text/x-python",
   "name": "python",
   "nbconvert_exporter": "python",
   "pygments_lexer": "ipython3",
   "version": "3.11.4"
  }
 },
 "nbformat": 4,
 "nbformat_minor": 5
}
